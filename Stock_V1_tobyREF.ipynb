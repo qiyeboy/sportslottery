{
 "cells": [
  {
   "cell_type": "markdown",
   "metadata": {},
   "source": [
    "若被ban IP可以參考此"
   ]
  },
  {
   "cell_type": "code",
   "execution_count": 1,
   "metadata": {},
   "outputs": [],
   "source": [
    "import requests\n",
    "from bs4 import BeautifulSoup\n",
    "from sys import stdout\n",
    "import numpy as np\n",
    "import re\n",
    "import pandas as pd\n",
    "import time\n",
    "import math\n",
    "from fake_useragent import UserAgent\n",
    "from stem import Signal\n",
    "from stem.control import Controller\n",
    "\n",
    "import twstock"
   ]
  },
  {
   "cell_type": "code",
   "execution_count": 2,
   "metadata": {
    "collapsed": true
   },
   "outputs": [],
   "source": [
    "# get twse stock codes\n",
    "code_dict = twstock.twse\n",
    "\n",
    "code_list = []\n",
    "for c in code_dict.keys():\n",
    "    if c[0] != '0' and c.isdigit():\n",
    "        code_list.append(c)"
   ]
  },
  {
   "cell_type": "code",
   "execution_count": 6,
   "metadata": {
    "collapsed": true
   },
   "outputs": [],
   "source": [
    "\n",
    "# crawler settings\n",
    "ua = UserAgent()\n",
    "headers = {'User-Agent': ua.random}\n",
    "proxies = {\n",
    "    'http': 'socks5://127.0.0.1:9150',\n",
    "    'https': 'socks5://127.0.0.1:9150'\n",
    "} # tor的port，要同時開起來tor browser，要開啟start tor server and set port\n",
    "# most retrying time\n",
    "try_time = 5\n",
    "\n",
    "\n",
    "# 拿到ban訊息，就執行這個fn去換IP\n",
    "def get_new_ip():\n",
    "    headers = {'User-Agent': ua.random}\n",
    "    with Controller.from_port(port=9051) as controller:\n",
    "        controller.authenticate(password=\"oiejrgeoibeifj\") #tor pwd?\n",
    "        controller.signal(Signal.NEWNYM)\n",
    "        time.sleep(controller.get_newnym_wait())\n",
    "    r = requests.get('http://orange.tw/', proxies=proxies) #當前IP\n",
    "    return r.text.replace('\\n', \" \")"
   ]
  },
  {
   "cell_type": "code",
   "execution_count": null,
   "metadata": {
    "collapsed": true
   },
   "outputs": [],
   "source": []
  },
  {
   "cell_type": "code",
   "execution_count": 4,
   "metadata": {
    "collapsed": true
   },
   "outputs": [],
   "source": [
    "# parameters setting\n",
    "## 幾個月內的歷史資料\n",
    "history_num_of_month = 12"
   ]
  },
  {
   "cell_type": "code",
   "execution_count": 7,
   "metadata": {},
   "outputs": [
    {
     "name": "stdout",
     "output_type": "stream",
     "text": [
      "getting history data of 1471 (94/916) with 176.10.99.200 Switzerland  <----- ERROR (您的瀏覽量異常, 已影響網站速度, 目前暫時關閉服務, 請稍後再重新使用若您是使用程式大量下載本網站), getting new ip.\n",
      "getting history data of 2317 (265/916) with 163.172.223.200 United Kingdom  <----- ERROR (  (2317) 鴻海 技術分析 - 月K線圖暨股價漲跌資料表 - Goodinfo!台灣股市資訊網  Goodinfo!台灣股市資訊網股票代號/名稱    選擇登入方式   googletag.cm)\n",
      "getting history data of 2330 (273/916) with 163.172.223.200 United Kingdom  <----- ERROR (  (2330) 台積電 技術分析 - 月K線圖暨股價漲跌資料表 - Goodinfo!台灣股市資訊網  Goodinfo!台灣股市資訊網股票代號/名稱    選擇登入方式   googletag.c)\n",
      "getting history data of 2897 (492/916) with 163.172.223.200 United Kingdom  <----- ERROR (  (2897) 王道銀行 技術分析 - 月K線圖暨股價漲跌資料表 - Goodinfo!台灣股市資訊網  Goodinfo!台灣股市資訊網股票代號/名稱    選擇登入方式   googletag.)\n",
      "getting history data of 4560 (665/916) with 163.172.223.200 United Kingdom  <----- ERROR (  (4560) 強信-KY 技術分析 - 月K線圖暨股價漲跌資料表 - Goodinfo!台灣股市資訊網  Goodinfo!台灣股市資訊網股票代號/名稱    選擇登入方式   googletag)\n",
      "getting history data of 4807 (673/916) with 163.172.223.200 United Kingdom  <----- ERROR (  (4807) 日成-KY 技術分析 - 月K線圖暨股價漲跌資料表 - Goodinfo!台灣股市資訊網  Goodinfo!台灣股市資訊網股票代號/名稱    選擇登入方式   googletag)\n",
      "getting history data of 6456 (803/916) with 163.172.223.200 United Kingdom  <----- ERROR (您的瀏覽量異常, 已影響網站速度, 目前暫時關閉服務, 請稍後再重新使用若您是使用程式大量下載本網站), getting new ip.\n",
      " <----- ERROR (  (6456) GIS-KY 技術分析 - 月K線圖暨股價漲跌資料表 - Goodinfo!台灣股市資訊網  Goodinfo!台灣股市資訊網股票代號/名稱    選擇登入方式   googleta)\n",
      "getting history data of 6582 (812/916) with 51.15.63.43 United Kingdom  <----- ERROR (  (6582) 申豐 技術分析 - 月K線圖暨股價漲跌資料表 - Goodinfo!台灣股市資訊網  Goodinfo!台灣股市資訊網股票代號/名稱    選擇登入方式   googletag.cm)\n",
      "getting history data of 9188 (916/916) with 51.15.63.43 United Kingdom m "
     ]
    }
   ],
   "source": [
    "history_data_df = pd.DataFrame(columns=['stock_id', 'lowest', 'total_money_amount'])\n",
    "count = 0\n",
    "current_ip = get_new_ip()\n",
    "\n",
    "for index, stock_id in enumerate(code_list):\n",
    "    stdout.write('\\rgetting history data of %s (%d/%d) with %s' % (stock_id, index, len(code_list)-1, current_ip))\n",
    "    stdout.flush()\n",
    "    for i in range(try_time):\n",
    "        try:\n",
    "            r = requests.get('https://goodinfo.tw/StockInfo/ShowK_Chart.asp?STOCK_ID=' + stock_id + '&CHT_CAT2=MONTH', \n",
    "                             headers=headers, proxies=proxies) #\n",
    "            soup = BeautifulSoup(r.content, 'lxml')\n",
    "\n",
    "            monthly_lowest = []\n",
    "            monthly_total_money_amount = 0\n",
    "            for i in range(history_num_of_month):\n",
    "                row = soup.find_all('tr', {'id':'row'+str(i)})\n",
    "                column = row[0].find_all('td')\n",
    "                monthly_lowest.append(float(column[4].text))\n",
    "                monthly_total_money_amount = monthly_total_money_amount + float(column[10].text)\n",
    "            history_data_df = history_data_df.append({'stock_id': stock_id, 'lowest': min(monthly_lowest), \n",
    "                                                      'total_money_amount': monthly_total_money_amount},\n",
    "                                                     ignore_index=True)\n",
    "            break\n",
    "        except:\n",
    "            soup = BeautifulSoup(r.content, 'lxml')\n",
    "            if '您的瀏覽量異常' in soup.text:\n",
    "                print(' <----- ERROR (' + soup.text.replace('\\n', '')[:50] + '), getting new ip.')\n",
    "                current_ip = get_new_ip()\n",
    "            else:\n",
    "                print(' <----- ERROR (' + soup.text.replace('\\n', '')[:100] + ')')\n",
    "                break"
   ]
  },
  {
   "cell_type": "code",
   "execution_count": 8,
   "metadata": {},
   "outputs": [],
   "source": [
    "history_data_df.to_csv('history_data_20180312.csv', index=False, encoding='utf8')"
   ]
  },
  {
   "cell_type": "code",
   "execution_count": null,
   "metadata": {
    "collapsed": true
   },
   "outputs": [],
   "source": []
  },
  {
   "cell_type": "code",
   "execution_count": null,
   "metadata": {},
   "outputs": [],
   "source": [
    "low_cost = history_data_df[(history_data_df.lowest > 15) & (history_data_df.lowest < 100)]"
   ]
  },
  {
   "cell_type": "code",
   "execution_count": null,
   "metadata": {},
   "outputs": [],
   "source": [
    "low_cost.sort_values('total_money_amount', ascending=False, inplace=True)"
   ]
  },
  {
   "cell_type": "code",
   "execution_count": null,
   "metadata": {},
   "outputs": [],
   "source": [
    "low_cost.set_index('stock_id', inplace=True)"
   ]
  },
  {
   "cell_type": "code",
   "execution_count": null,
   "metadata": {},
   "outputs": [],
   "source": [
    "low_cost = low_cost[low_cost.total_money_amount > low_cost.total_money_amount.mean()]"
   ]
  },
  {
   "cell_type": "code",
   "execution_count": null,
   "metadata": {},
   "outputs": [],
   "source": [
    "target_keys = list(low_cost.index)"
   ]
  },
  {
   "cell_type": "code",
   "execution_count": null,
   "metadata": {
    "collapsed": true
   },
   "outputs": [],
   "source": [
    "def get_latest_trade_price(code, using_proxy=False):\n",
    "    try:\n",
    "        timestemp = str(math.floor(time.time()*1000))\n",
    "\n",
    "        if using_proxy:\n",
    "            r = requests.get('http://mis.twse.com.tw/stock/fibest.jsp?stock=' + code, headers=headers, proxies=proxies)\n",
    "            r = requests.get('http://mis.twse.com.tw/stock/api/getStockInfo.jsp?ex_ch=tse_' + code + '.tw&json=1&delay=0&_=' + timestemp, \n",
    "                             headers=headers, cookies={'JSESSIONID': r.cookies['JSESSIONID']}, proxies=proxies)\n",
    "        else:\n",
    "            r = requests.get('http://mis.twse.com.tw/stock/fibest.jsp?stock=' + code, headers=headers)\n",
    "            r = requests.get('http://mis.twse.com.tw/stock/api/getStockInfo.jsp?ex_ch=tse_' + code + '.tw&json=1&delay=0&_=' + timestemp, \n",
    "                             headers=headers, cookies={'JSESSIONID': r.cookies['JSESSIONID']})\n",
    "\n",
    "        return float(r.json()['msgArray'][0]['z'])\n",
    "    except:\n",
    "        soup = BeautifulSoup(r.content, 'lxml')\n",
    "        print(soup.text.replace('\\n', '')[:100])"
   ]
  },
  {
   "cell_type": "code",
   "execution_count": null,
   "metadata": {
    "scrolled": true
   },
   "outputs": [],
   "source": [
    "ress = {}\n",
    "for c in target_keys:\n",
    "    for i in range(try_time): # trying at most 5 times\n",
    "        res = get_latest_trade_price(c, using_proxy=True) # using_proxy才會改用tor IP\n",
    "        if res:\n",
    "            print(c, res)\n",
    "            ress[c] = res\n",
    "            break\n",
    "        elif i == try_time - 1:\n",
    "            print('%s Failed twice, skipping.' % (c))\n",
    "        else:\n",
    "            print('%s Failed, getting new ip: %s' % (c, get_new_ip()))\n",
    "            get_new_ip()"
   ]
  },
  {
   "cell_type": "code",
   "execution_count": null,
   "metadata": {},
   "outputs": [],
   "source": [
    "low_cost['latest_price'] = ress.values()"
   ]
  },
  {
   "cell_type": "code",
   "execution_count": null,
   "metadata": {},
   "outputs": [],
   "source": [
    "low_cost[low_cost.lowest > low_cost.latest_price]"
   ]
  },
  {
   "cell_type": "code",
   "execution_count": null,
   "metadata": {
    "collapsed": true
   },
   "outputs": [],
   "source": []
  },
  {
   "cell_type": "code",
   "execution_count": null,
   "metadata": {
    "collapsed": true
   },
   "outputs": [],
   "source": []
  },
  {
   "cell_type": "markdown",
   "metadata": {},
   "source": [
    "# FOR TESTING"
   ]
  },
  {
   "cell_type": "code",
   "execution_count": null,
   "metadata": {},
   "outputs": [],
   "source": [
    "get_new_ip()\n",
    "r = requests.get('http://orange.tw/', proxies=proxies)\n",
    "print(r.text)"
   ]
  }
 ],
 "metadata": {
  "kernelspec": {
   "display_name": "Python [default]",
   "language": "python",
   "name": "python3"
  },
  "language_info": {
   "codemirror_mode": {
    "name": "ipython",
    "version": 3
   },
   "file_extension": ".py",
   "mimetype": "text/x-python",
   "name": "python",
   "nbconvert_exporter": "python",
   "pygments_lexer": "ipython3",
   "version": "3.6.5"
  }
 },
 "nbformat": 4,
 "nbformat_minor": 2
}
